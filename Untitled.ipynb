{
 "cells": [
  {
   "cell_type": "markdown",
   "id": "421b202c-ce50-409e-85be-47161545969e",
   "metadata": {},
   "source": [
    "# Business Understanding"
   ]
  },
  {
   "cell_type": "markdown",
   "id": "c8d5e222-4f81-4635-a4cf-c4569be2a5ea",
   "metadata": {},
   "source": [
    "# Data Understanding"
   ]
  },
  {
   "cell_type": "markdown",
   "id": "cd03bc50-c2c5-4208-96d3-a9bad87fa097",
   "metadata": {},
   "source": [
    "# Data Preparation"
   ]
  },
  {
   "cell_type": "code",
   "execution_count": 1,
   "id": "f3a8644f-5461-45c7-b384-26d4e06fee38",
   "metadata": {
    "scrolled": true
   },
   "outputs": [
    {
     "name": "stdout",
     "output_type": "stream",
     "text": [
      "Requirement already satisfied: matplotlib in c:\\users\\nyaba\\downloads\\interns-project\\venv\\lib\\site-packages (3.10.1)\n",
      "Requirement already satisfied: seaborn in c:\\users\\nyaba\\downloads\\interns-project\\venv\\lib\\site-packages (0.13.2)\n",
      "Requirement already satisfied: contourpy>=1.0.1 in c:\\users\\nyaba\\downloads\\interns-project\\venv\\lib\\site-packages (from matplotlib) (1.3.1)\n",
      "Requirement already satisfied: cycler>=0.10 in c:\\users\\nyaba\\downloads\\interns-project\\venv\\lib\\site-packages (from matplotlib) (0.12.1)\n",
      "Requirement already satisfied: fonttools>=4.22.0 in c:\\users\\nyaba\\downloads\\interns-project\\venv\\lib\\site-packages (from matplotlib) (4.56.0)\n",
      "Requirement already satisfied: kiwisolver>=1.3.1 in c:\\users\\nyaba\\downloads\\interns-project\\venv\\lib\\site-packages (from matplotlib) (1.4.8)\n",
      "Requirement already satisfied: numpy>=1.23 in c:\\users\\nyaba\\downloads\\interns-project\\venv\\lib\\site-packages (from matplotlib) (2.2.3)\n",
      "Requirement already satisfied: packaging>=20.0 in c:\\users\\nyaba\\downloads\\interns-project\\venv\\lib\\site-packages (from matplotlib) (24.2)\n",
      "Requirement already satisfied: pillow>=8 in c:\\users\\nyaba\\downloads\\interns-project\\venv\\lib\\site-packages (from matplotlib) (11.1.0)\n",
      "Requirement already satisfied: pyparsing>=2.3.1 in c:\\users\\nyaba\\downloads\\interns-project\\venv\\lib\\site-packages (from matplotlib) (3.2.1)\n",
      "Requirement already satisfied: python-dateutil>=2.7 in c:\\users\\nyaba\\downloads\\interns-project\\venv\\lib\\site-packages (from matplotlib) (2.9.0.post0)\n",
      "Requirement already satisfied: pandas>=1.2 in c:\\users\\nyaba\\downloads\\interns-project\\venv\\lib\\site-packages (from seaborn) (2.2.3)\n",
      "Requirement already satisfied: pytz>=2020.1 in c:\\users\\nyaba\\downloads\\interns-project\\venv\\lib\\site-packages (from pandas>=1.2->seaborn) (2025.1)\n",
      "Requirement already satisfied: tzdata>=2022.7 in c:\\users\\nyaba\\downloads\\interns-project\\venv\\lib\\site-packages (from pandas>=1.2->seaborn) (2025.1)\n",
      "Requirement already satisfied: six>=1.5 in c:\\users\\nyaba\\downloads\\interns-project\\venv\\lib\\site-packages (from python-dateutil>=2.7->matplotlib) (1.17.0)\n"
     ]
    },
    {
     "data": {
      "text/html": [
       "<div>\n",
       "<style scoped>\n",
       "    .dataframe tbody tr th:only-of-type {\n",
       "        vertical-align: middle;\n",
       "    }\n",
       "\n",
       "    .dataframe tbody tr th {\n",
       "        vertical-align: top;\n",
       "    }\n",
       "\n",
       "    .dataframe thead th {\n",
       "        text-align: right;\n",
       "    }\n",
       "</style>\n",
       "<table border=\"1\" class=\"dataframe\">\n",
       "  <thead>\n",
       "    <tr style=\"text-align: right;\">\n",
       "      <th></th>\n",
       "      <th>Asset Description</th>\n",
       "      <th>Financed by/ source of funds</th>\n",
       "      <th>Serial number</th>\n",
       "      <th>Tag number</th>\n",
       "      <th>Date of Delivery / installation</th>\n",
       "      <th>PV number</th>\n",
       "      <th>Original Location</th>\n",
       "      <th>Current Location</th>\n",
       "      <th>Replacement Date (if applicable)</th>\n",
       "      <th>Purchase amount</th>\n",
       "      <th>Depreciation rate</th>\n",
       "      <th>Annual depreciation</th>\n",
       "      <th>Accumulated depreciation</th>\n",
       "      <th>Net Book Value</th>\n",
       "      <th>Date of disposal</th>\n",
       "      <th>Disposal value</th>\n",
       "      <th>Responsible officer</th>\n",
       "      <th>Asset condition</th>\n",
       "      <th>Notes</th>\n",
       "    </tr>\n",
       "  </thead>\n",
       "  <tbody>\n",
       "    <tr>\n",
       "      <th>0</th>\n",
       "      <td>keyboard</td>\n",
       "      <td>GOK</td>\n",
       "      <td>9CT35003CU</td>\n",
       "      <td>NK</td>\n",
       "      <td>NK</td>\n",
       "      <td>NaN</td>\n",
       "      <td>NK</td>\n",
       "      <td>Director Regional Development</td>\n",
       "      <td>NaN</td>\n",
       "      <td>NK</td>\n",
       "      <td>0.3</td>\n",
       "      <td>0</td>\n",
       "      <td>0</td>\n",
       "      <td>0</td>\n",
       "      <td>NaN</td>\n",
       "      <td>NaN</td>\n",
       "      <td>Wanjiku</td>\n",
       "      <td>Serviceable</td>\n",
       "      <td>NaN</td>\n",
       "    </tr>\n",
       "    <tr>\n",
       "      <th>1</th>\n",
       "      <td>keyboard</td>\n",
       "      <td>GOK</td>\n",
       "      <td>NK</td>\n",
       "      <td>MEAC&amp;RNCD/KYB/33</td>\n",
       "      <td>NK</td>\n",
       "      <td>NaN</td>\n",
       "      <td>NK</td>\n",
       "      <td>Front Office regional development</td>\n",
       "      <td>NaN</td>\n",
       "      <td>NK</td>\n",
       "      <td>0.3</td>\n",
       "      <td>0</td>\n",
       "      <td>0</td>\n",
       "      <td>0</td>\n",
       "      <td>NaN</td>\n",
       "      <td>NaN</td>\n",
       "      <td>Divina</td>\n",
       "      <td>Serviceable</td>\n",
       "      <td>NaN</td>\n",
       "    </tr>\n",
       "    <tr>\n",
       "      <th>2</th>\n",
       "      <td>keyboard</td>\n",
       "      <td>GOK</td>\n",
       "      <td>NK</td>\n",
       "      <td>NK</td>\n",
       "      <td>NK</td>\n",
       "      <td>NaN</td>\n",
       "      <td>NK</td>\n",
       "      <td>Front Office regional development</td>\n",
       "      <td>NaN</td>\n",
       "      <td>NK</td>\n",
       "      <td>0.3</td>\n",
       "      <td>0</td>\n",
       "      <td>0</td>\n",
       "      <td>0</td>\n",
       "      <td>NaN</td>\n",
       "      <td>NaN</td>\n",
       "      <td>Nasri</td>\n",
       "      <td>Serviceable</td>\n",
       "      <td>NaN</td>\n",
       "    </tr>\n",
       "    <tr>\n",
       "      <th>3</th>\n",
       "      <td>keyboard</td>\n",
       "      <td>GOK</td>\n",
       "      <td>TA/HW/KBL27</td>\n",
       "      <td>NK</td>\n",
       "      <td>NK</td>\n",
       "      <td>NaN</td>\n",
       "      <td>NK</td>\n",
       "      <td>Front Office Deputy Director regional development</td>\n",
       "      <td>NaN</td>\n",
       "      <td>NK</td>\n",
       "      <td>0.3</td>\n",
       "      <td>0</td>\n",
       "      <td>0</td>\n",
       "      <td>0</td>\n",
       "      <td>NaN</td>\n",
       "      <td>NaN</td>\n",
       "      <td>Dosio</td>\n",
       "      <td>Serviceable</td>\n",
       "      <td>NaN</td>\n",
       "    </tr>\n",
       "    <tr>\n",
       "      <th>4</th>\n",
       "      <td>keyboard</td>\n",
       "      <td>GOK</td>\n",
       "      <td>NK</td>\n",
       "      <td>MEAC&amp;RNCD/KYB/18</td>\n",
       "      <td>NK</td>\n",
       "      <td>NaN</td>\n",
       "      <td>NK</td>\n",
       "      <td>Deputy Director Regional Development</td>\n",
       "      <td>NaN</td>\n",
       "      <td>NK</td>\n",
       "      <td>0.3</td>\n",
       "      <td>0</td>\n",
       "      <td>0</td>\n",
       "      <td>0</td>\n",
       "      <td>NaN</td>\n",
       "      <td>NaN</td>\n",
       "      <td>Wainaina</td>\n",
       "      <td>Serviceable</td>\n",
       "      <td>NaN</td>\n",
       "    </tr>\n",
       "  </tbody>\n",
       "</table>\n",
       "</div>"
      ],
      "text/plain": [
       "  Asset Description  Financed by/ source of funds Serial number   \\\n",
       "0           keyboard                          GOK     9CT35003CU   \n",
       "1           keyboard                          GOK             NK   \n",
       "2           keyboard                          GOK             NK   \n",
       "3           keyboard                          GOK    TA/HW/KBL27   \n",
       "4           keyboard                          GOK             NK   \n",
       "\n",
       "         Tag number Date of Delivery / installation  PV number  \\\n",
       "0                NK                              NK        NaN   \n",
       "1  MEAC&RNCD/KYB/33                              NK        NaN   \n",
       "2                NK                              NK        NaN   \n",
       "3                NK                              NK        NaN   \n",
       "4  MEAC&RNCD/KYB/18                              NK        NaN   \n",
       "\n",
       "  Original Location                                   Current Location   \\\n",
       "0                 NK                      Director Regional Development   \n",
       "1                 NK                  Front Office regional development   \n",
       "2                 NK                  Front Office regional development   \n",
       "3                 NK  Front Office Deputy Director regional development   \n",
       "4                 NK               Deputy Director Regional Development   \n",
       "\n",
       "   Replacement Date (if applicable)  Purchase amount   Depreciation rate  \\\n",
       "0                                NaN               NK                0.3   \n",
       "1                                NaN               NK                0.3   \n",
       "2                                NaN               NK                0.3   \n",
       "3                                NaN               NK                0.3   \n",
       "4                                NaN               NK                0.3   \n",
       "\n",
       "   Annual depreciation  Accumulated depreciation  Net Book Value  \\\n",
       "0                    0                         0               0   \n",
       "1                    0                         0               0   \n",
       "2                    0                         0               0   \n",
       "3                    0                         0               0   \n",
       "4                    0                         0               0   \n",
       "\n",
       "   Date of disposal  Disposal value Responsible officer Asset condition Notes  \n",
       "0               NaN             NaN             Wanjiku     Serviceable   NaN  \n",
       "1               NaN             NaN              Divina     Serviceable   NaN  \n",
       "2               NaN             NaN               Nasri     Serviceable   NaN  \n",
       "3               NaN             NaN               Dosio     Serviceable   NaN  \n",
       "4               NaN             NaN            Wainaina     Serviceable   NaN  "
      ]
     },
     "execution_count": 1,
     "metadata": {},
     "output_type": "execute_result"
    }
   ],
   "source": [
    "#load data\n",
    "!pip install matplotlib seaborn\n",
    "\n",
    "import pandas as pd\n",
    "import matplotlib.pyplot as plt\n",
    "import seaborn as sns\n",
    "\n",
    "# Load your Excel file (replace 'your_file.xlsx' with the actual file name)\n",
    "file_path = 'ASSET REGISTER ICT final.xlsx'\n",
    "\n",
    "# Read the file\n",
    "df = pd.read_excel(file_path, header=0)\n",
    "df.head()"
   ]
  },
  {
   "cell_type": "code",
   "execution_count": 2,
   "id": "052094bf-f0c7-4e7e-b296-12a29c267149",
   "metadata": {},
   "outputs": [
    {
     "name": "stdout",
     "output_type": "stream",
     "text": [
      "(354, 19)\n",
      "\n",
      "<class 'pandas.core.frame.DataFrame'>\n",
      "RangeIndex: 354 entries, 0 to 353\n",
      "Data columns (total 19 columns):\n",
      " #   Column                             Non-Null Count  Dtype  \n",
      "---  ------                             --------------  -----  \n",
      " 0   Asset Description                  354 non-null    object \n",
      " 1   Financed by/ source of funds       354 non-null    object \n",
      " 2   Serial number                      340 non-null    object \n",
      " 3   Tag number                         284 non-null    object \n",
      " 4   Date of Delivery / installation    354 non-null    object \n",
      " 5   PV number                          0 non-null      float64\n",
      " 6   Original Location                  353 non-null    object \n",
      " 7   Current Location                   350 non-null    object \n",
      " 8   Replacement Date (if applicable)   0 non-null      float64\n",
      " 9   Purchase amount                    354 non-null    object \n",
      " 10  Depreciation rate                  354 non-null    float64\n",
      " 11  Annual depreciation                354 non-null    int64  \n",
      " 12  Accumulated depreciation           354 non-null    int64  \n",
      " 13  Net Book Value                     354 non-null    int64  \n",
      " 14  Date of disposal                   0 non-null      float64\n",
      " 15  Disposal value                     0 non-null      float64\n",
      " 16  Responsible officer                350 non-null    object \n",
      " 17  Asset condition                    354 non-null    object \n",
      " 18  Notes                              3 non-null      object \n",
      "dtypes: float64(5), int64(3), object(11)\n",
      "memory usage: 52.7+ KB\n",
      "None\n"
     ]
    }
   ],
   "source": [
    "print(df.shape)\n",
    "print( )\n",
    "print(df.info())"
   ]
  },
  {
   "cell_type": "markdown",
   "id": "69c04218-78ce-403d-be94-b7173ece3e75",
   "metadata": {},
   "source": [
    "Our data has 19 columns and 358 rows."
   ]
  },
  {
   "cell_type": "code",
   "execution_count": 3,
   "id": "0b39973b-cdb4-4b06-8c28-5023b3040482",
   "metadata": {},
   "outputs": [
    {
     "name": "stdout",
     "output_type": "stream",
     "text": [
      "Index(['Asset Description ', 'Financed by/ source of funds', 'Serial number ',\n",
      "       'Tag number', 'Date of Delivery / installation', 'PV number',\n",
      "       'Original Location ', 'Current Location ',\n",
      "       'Replacement Date (if applicable) ', 'Purchase amount ',\n",
      "       'Depreciation rate', 'Annual depreciation', 'Accumulated depreciation',\n",
      "       'Net Book Value', 'Date of disposal', 'Disposal value',\n",
      "       'Responsible officer', 'Asset condition', 'Notes'],\n",
      "      dtype='object')\n"
     ]
    }
   ],
   "source": [
    "print(df.columns)\n"
   ]
  },
  {
   "cell_type": "code",
   "execution_count": 4,
   "id": "df061822-24fb-4841-a087-239f7c06f3fa",
   "metadata": {},
   "outputs": [
    {
     "data": {
      "text/html": [
       "<div>\n",
       "<style scoped>\n",
       "    .dataframe tbody tr th:only-of-type {\n",
       "        vertical-align: middle;\n",
       "    }\n",
       "\n",
       "    .dataframe tbody tr th {\n",
       "        vertical-align: top;\n",
       "    }\n",
       "\n",
       "    .dataframe thead th {\n",
       "        text-align: right;\n",
       "    }\n",
       "</style>\n",
       "<table border=\"1\" class=\"dataframe\">\n",
       "  <thead>\n",
       "    <tr style=\"text-align: right;\">\n",
       "      <th></th>\n",
       "      <th>Responsible officer</th>\n",
       "      <th>Current Location</th>\n",
       "      <th>Tag number</th>\n",
       "      <th>Serial number</th>\n",
       "      <th>Depreciation rate</th>\n",
       "      <th>Financed by/ source of funds</th>\n",
       "      <th>Asset Description</th>\n",
       "      <th>Asset condition</th>\n",
       "    </tr>\n",
       "  </thead>\n",
       "  <tbody>\n",
       "    <tr>\n",
       "      <th>349</th>\n",
       "      <td>CS Moe</td>\n",
       "      <td>CS</td>\n",
       "      <td>NaN</td>\n",
       "      <td>8CG3510BRV</td>\n",
       "      <td>0.3</td>\n",
       "      <td>GOK</td>\n",
       "      <td>Laptop</td>\n",
       "      <td>serviceable</td>\n",
       "    </tr>\n",
       "    <tr>\n",
       "      <th>350</th>\n",
       "      <td>Mwaura</td>\n",
       "      <td>Internal Audit</td>\n",
       "      <td>NaN</td>\n",
       "      <td>8CG40317KD</td>\n",
       "      <td>0.3</td>\n",
       "      <td>GOK</td>\n",
       "      <td>Laptop</td>\n",
       "      <td>serviceable</td>\n",
       "    </tr>\n",
       "    <tr>\n",
       "      <th>351</th>\n",
       "      <td>Benson Murimi</td>\n",
       "      <td>SPFO</td>\n",
       "      <td>NaN</td>\n",
       "      <td>CND15150MH</td>\n",
       "      <td>0.3</td>\n",
       "      <td>GOK</td>\n",
       "      <td>Laptop</td>\n",
       "      <td>serviceable</td>\n",
       "    </tr>\n",
       "    <tr>\n",
       "      <th>352</th>\n",
       "      <td>Andrew Lorenge</td>\n",
       "      <td>Research</td>\n",
       "      <td>NaN</td>\n",
       "      <td>96L1WG3</td>\n",
       "      <td>0.3</td>\n",
       "      <td>GOK</td>\n",
       "      <td>Laptop</td>\n",
       "      <td>serviceable</td>\n",
       "    </tr>\n",
       "    <tr>\n",
       "      <th>353</th>\n",
       "      <td>Gladys Kerubo</td>\n",
       "      <td>R&amp;P</td>\n",
       "      <td>NaN</td>\n",
       "      <td>5CD210LLB6</td>\n",
       "      <td>0.3</td>\n",
       "      <td>GOK</td>\n",
       "      <td>Laptop</td>\n",
       "      <td>serviceable</td>\n",
       "    </tr>\n",
       "  </tbody>\n",
       "</table>\n",
       "</div>"
      ],
      "text/plain": [
       "    Responsible officer Current Location Tag number Serial number  \\\n",
       "349              CS Moe               CS        NaN    8CG3510BRV   \n",
       "350              Mwaura   Internal Audit        NaN    8CG40317KD   \n",
       "351       Benson Murimi             SPFO        NaN    CND15150MH   \n",
       "352      Andrew Lorenge        Research         NaN       96L1WG3   \n",
       "353       Gladys Kerubo              R&P        NaN    5CD210LLB6   \n",
       "\n",
       "     Depreciation rate Financed by/ source of funds Asset Description  \\\n",
       "349                0.3                          GOK            Laptop   \n",
       "350                0.3                          GOK            Laptop   \n",
       "351                0.3                          GOK            Laptop   \n",
       "352                0.3                          GOK            Laptop   \n",
       "353                0.3                          GOK            Laptop   \n",
       "\n",
       "    Asset condition  \n",
       "349     serviceable  \n",
       "350     serviceable  \n",
       "351     serviceable  \n",
       "352     serviceable  \n",
       "353     serviceable  "
      ]
     },
     "execution_count": 4,
     "metadata": {},
     "output_type": "execute_result"
    }
   ],
   "source": [
    "# drop unwanted columns\n",
    "# Clean column names by removing leading and trailing spaces\n",
    "df.columns = df.columns.str.strip()\n",
    "\n",
    "# Now, you can define your columns to keep (no extra spaces)\n",
    "columns_to_keep = [\n",
    "    'Responsible officer',\n",
    "    'Current Location',\n",
    "    'Tag number',\n",
    "    'Serial number',\n",
    "    'Depreciation rate',\n",
    "    'Financed by/ source of funds',\n",
    "    'Asset Description',\n",
    "    'Asset condition'\n",
    "]\n",
    "\n",
    "# Now selection will work\n",
    "df = df[columns_to_keep]\n",
    "\n",
    "# Confirm it's cleaned\n",
    "df.tail()\n"
   ]
  },
  {
   "cell_type": "code",
   "execution_count": 5,
   "id": "53e6dc4c-5ba6-4151-a7a8-1981d559b1d5",
   "metadata": {},
   "outputs": [],
   "source": [
    "# cleaning the data set\n",
    "def clean_asset_data(df):\n",
    "    \"\"\"\n",
    "    Cleans the asset register DataFrame by:\n",
    "    1. Stripping whitespace from column names and all string cells.\n",
    "    2. Converting date columns to datetime type.\n",
    "    3. Handling missing values (optional: fill or drop, based on column type).\n",
    "    4. Removing duplicates.\n",
    "    \n",
    "    Parameters:\n",
    "    df (pd.DataFrame): Raw asset register DataFrame.\n",
    "\n",
    "    Returns:\n",
    "    pd.DataFrame: Cleaned DataFrame.\n",
    "    \"\"\"\n",
    "    # 1. Strip whitespace from column names\n",
    "    df.columns = df.columns.str.strip()\n",
    "\n",
    "    # 2. Strip whitespace from all string/object columns\n",
    "    for col in df.select_dtypes(include=['object']).columns:\n",
    "        df[col] = df[col].str.strip()\n",
    "\n",
    "    # 3. Convert date columns (customize based on your dataset's date columns)\n",
    "    date_columns = ['Date of Delivery / installation', 'Replacement Date (if applicable)', 'Date of disposal']\n",
    "    for col in date_columns:\n",
    "        if col in df.columns:\n",
    "            df[col] = pd.to_datetime(df[col], errors='coerce')  # Invalid dates will become NaT\n",
    "\n",
    "    # 4. Handle missing values (you can customize this part)\n",
    "    # Example: Fill missing strings with 'Unknown' and numbers with 0\n",
    "    for col in df.columns:\n",
    "        if df[col].dtype == 'object':\n",
    "            df[col] = df[col].fillna('Unknown')\n",
    "        else:\n",
    "            df[col] = df[col].fillna(0)\n",
    "\n",
    "    # 5. Remove duplicates\n",
    "    df = df.drop_duplicates()\n",
    "\n",
    "    return df\n"
   ]
  },
  {
   "cell_type": "code",
   "execution_count": 6,
   "id": "9cb670d6-d5b6-4543-8f1f-e543ecfde4fa",
   "metadata": {},
   "outputs": [
    {
     "data": {
      "text/html": [
       "<div>\n",
       "<style scoped>\n",
       "    .dataframe tbody tr th:only-of-type {\n",
       "        vertical-align: middle;\n",
       "    }\n",
       "\n",
       "    .dataframe tbody tr th {\n",
       "        vertical-align: top;\n",
       "    }\n",
       "\n",
       "    .dataframe thead th {\n",
       "        text-align: right;\n",
       "    }\n",
       "</style>\n",
       "<table border=\"1\" class=\"dataframe\">\n",
       "  <thead>\n",
       "    <tr style=\"text-align: right;\">\n",
       "      <th></th>\n",
       "      <th>Responsible officer</th>\n",
       "      <th>Current Location</th>\n",
       "      <th>Tag number</th>\n",
       "      <th>Serial number</th>\n",
       "      <th>Depreciation rate</th>\n",
       "      <th>Financed by/ source of funds</th>\n",
       "      <th>Asset Description</th>\n",
       "      <th>Asset condition</th>\n",
       "    </tr>\n",
       "  </thead>\n",
       "  <tbody>\n",
       "    <tr>\n",
       "      <th>349</th>\n",
       "      <td>CS Moe</td>\n",
       "      <td>CS</td>\n",
       "      <td>Unknown</td>\n",
       "      <td>8CG3510BRV</td>\n",
       "      <td>0.3</td>\n",
       "      <td>GOK</td>\n",
       "      <td>Laptop</td>\n",
       "      <td>serviceable</td>\n",
       "    </tr>\n",
       "    <tr>\n",
       "      <th>350</th>\n",
       "      <td>Mwaura</td>\n",
       "      <td>Internal Audit</td>\n",
       "      <td>Unknown</td>\n",
       "      <td>8CG40317KD</td>\n",
       "      <td>0.3</td>\n",
       "      <td>GOK</td>\n",
       "      <td>Laptop</td>\n",
       "      <td>serviceable</td>\n",
       "    </tr>\n",
       "    <tr>\n",
       "      <th>351</th>\n",
       "      <td>Benson Murimi</td>\n",
       "      <td>SPFO</td>\n",
       "      <td>Unknown</td>\n",
       "      <td>CND15150MH</td>\n",
       "      <td>0.3</td>\n",
       "      <td>GOK</td>\n",
       "      <td>Laptop</td>\n",
       "      <td>serviceable</td>\n",
       "    </tr>\n",
       "    <tr>\n",
       "      <th>352</th>\n",
       "      <td>Andrew Lorenge</td>\n",
       "      <td>Research</td>\n",
       "      <td>Unknown</td>\n",
       "      <td>96L1WG3</td>\n",
       "      <td>0.3</td>\n",
       "      <td>GOK</td>\n",
       "      <td>Laptop</td>\n",
       "      <td>serviceable</td>\n",
       "    </tr>\n",
       "    <tr>\n",
       "      <th>353</th>\n",
       "      <td>Gladys Kerubo</td>\n",
       "      <td>R&amp;P</td>\n",
       "      <td>Unknown</td>\n",
       "      <td>5CD210LLB6</td>\n",
       "      <td>0.3</td>\n",
       "      <td>GOK</td>\n",
       "      <td>Laptop</td>\n",
       "      <td>serviceable</td>\n",
       "    </tr>\n",
       "  </tbody>\n",
       "</table>\n",
       "</div>"
      ],
      "text/plain": [
       "    Responsible officer Current Location Tag number Serial number  \\\n",
       "349              CS Moe               CS    Unknown    8CG3510BRV   \n",
       "350              Mwaura   Internal Audit    Unknown    8CG40317KD   \n",
       "351       Benson Murimi             SPFO    Unknown    CND15150MH   \n",
       "352      Andrew Lorenge         Research    Unknown       96L1WG3   \n",
       "353       Gladys Kerubo              R&P    Unknown    5CD210LLB6   \n",
       "\n",
       "     Depreciation rate Financed by/ source of funds Asset Description  \\\n",
       "349                0.3                          GOK            Laptop   \n",
       "350                0.3                          GOK            Laptop   \n",
       "351                0.3                          GOK            Laptop   \n",
       "352                0.3                          GOK            Laptop   \n",
       "353                0.3                          GOK            Laptop   \n",
       "\n",
       "    Asset condition  \n",
       "349     serviceable  \n",
       "350     serviceable  \n",
       "351     serviceable  \n",
       "352     serviceable  \n",
       "353     serviceable  "
      ]
     },
     "execution_count": 6,
     "metadata": {},
     "output_type": "execute_result"
    }
   ],
   "source": [
    "df = clean_asset_data(df)\n",
    "df.tail()"
   ]
  },
  {
   "cell_type": "code",
   "execution_count": 7,
   "id": "d2665774-a8d2-4fcc-b3c8-ea92a96ce785",
   "metadata": {},
   "outputs": [
    {
     "data": {
      "text/plain": [
       "(352, 8)"
      ]
     },
     "execution_count": 7,
     "metadata": {},
     "output_type": "execute_result"
    }
   ],
   "source": [
    "df.shape"
   ]
  },
  {
   "cell_type": "markdown",
   "id": "9ddd5f42-8914-49c0-b818-a33bb149c578",
   "metadata": {},
   "source": [
    "our cleaned dataset has 352 rows and 8 columns"
   ]
  },
  {
   "cell_type": "markdown",
   "id": "9bacbd8c-579e-4811-88b3-86b7af33d841",
   "metadata": {},
   "source": [
    "#  Asset Tracking \n",
    "\n",
    "- What do we have, where is it, and who’s responsible?\n",
    "\n",
    "Columns Needed\n",
    "- Asset Description\n",
    "- Current Location\n",
    "- Responsible officer\n",
    "\n",
    "What You Want to Know\n",
    "- Total assets per location.\n",
    "- Who is responsible for which assets."
   ]
  },
  {
   "cell_type": "code",
   "execution_count": 8,
   "id": "541d87c8-4cc2-4060-8da0-2df5ca8959eb",
   "metadata": {
    "scrolled": true
   },
   "outputs": [
    {
     "name": "stdout",
     "output_type": "stream",
     "text": [
      "Asset Tracking Sample:\n",
      "  Asset Description                                   Current Location  \\\n",
      "0          keyboard                      Director Regional Development   \n",
      "1          keyboard                  Front Office regional development   \n",
      "2          keyboard                  Front Office regional development   \n",
      "3          keyboard  Front Office Deputy Director regional development   \n",
      "4          keyboard               Deputy Director Regional Development   \n",
      "\n",
      "  Responsible officer  \n",
      "0             Wanjiku  \n",
      "1              Divina  \n",
      "2               Nasri  \n",
      "3               Dosio  \n",
      "4            Wainaina  \n",
      "\n",
      "Assets by Location:\n",
      "                   Location  Total Assets\n",
      "0                        RD            15\n",
      "1                        ps            12\n",
      "2                     legal            11\n",
      "3    Research & Partnership            10\n",
      "4        Telephone Exchange            10\n",
      "..                      ...           ...\n",
      "133                     PFO             1\n",
      "134          Internal Audit             1\n",
      "135                    SPFO             1\n",
      "136                Research             1\n",
      "137                     R&P             1\n",
      "\n",
      "[138 rows x 2 columns]\n",
      "\n",
      "Assets by Responsible Officer:\n",
      "    Responsible Officer  Total Assets\n",
      "0             Elizabeth             8\n",
      "1               Reachel             8\n",
      "2                 Chege             7\n",
      "3                  Mary             7\n",
      "4               Charles             7\n",
      "..                  ...           ...\n",
      "168              CS Moe             1\n",
      "169              Mwaura             1\n",
      "170       Benson Murimi             1\n",
      "171      Andrew Lorenge             1\n",
      "172       Gladys Kerubo             1\n",
      "\n",
      "[173 rows x 2 columns]\n"
     ]
    }
   ],
   "source": [
    "# Asset Tracking Summary\n",
    "asset_tracking = df[['Asset Description', 'Current Location', 'Responsible officer']]\n",
    "\n",
    "# Total assets per location\n",
    "location_summary = df['Current Location'].value_counts().reset_index()\n",
    "location_summary.columns = ['Location', 'Total Assets']\n",
    "\n",
    "# Total assets per officer\n",
    "officer_summary = df['Responsible officer'].value_counts().reset_index()\n",
    "officer_summary.columns = ['Responsible Officer', 'Total Assets']\n",
    "\n",
    "print(\"Asset Tracking Sample:\")\n",
    "print(asset_tracking.head())\n",
    "\n",
    "print(\"\\nAssets by Location:\")\n",
    "print(location_summary)\n",
    "\n",
    "print(\"\\nAssets by Responsible Officer:\")\n",
    "print(officer_summary)\n"
   ]
  },
  {
   "cell_type": "markdown",
   "id": "e4e93e51-d578-4a4e-97e8-95b2eaa86804",
   "metadata": {
    "jp-MarkdownHeadingCollapsed": true
   },
   "source": [
    "# Condition Monitoring \n",
    "\n",
    "How many assets are in poor condition?\n",
    "\n",
    "Columns Needed\n",
    "- Asset condition\n",
    "\n",
    "What You Want to Know\n",
    "- Distribution of asset conditions (Good, Fair, Poor)\n",
    "- Identify all assets in \"Poor\" condition (or any condition)."
   ]
  },
  {
   "cell_type": "code",
   "execution_count": 9,
   "id": "ad58f60e-2ce5-47ea-8175-01d0865d10c1",
   "metadata": {},
   "outputs": [
    {
     "name": "stdout",
     "output_type": "stream",
     "text": [
      "Asset Condition Report:\n",
      "     Condition  Count\n",
      "0  serviceable    188\n",
      "1  Serviceable    163\n",
      "2         Lost      1\n",
      "\n",
      "Assets in Poor Condition:\n",
      "Empty DataFrame\n",
      "Columns: [Asset Description, Current Location, Responsible officer]\n",
      "Index: []\n"
     ]
    },
    {
     "data": {
      "image/png": "[encoded data removed]",
      "text/plain": [
       "<Figure size 800x500 with 1 Axes>"
      ]
     },
     "metadata": {},
     "output_type": "display_data"
    }
   ],
   "source": [
    "# Condition Distribution\n",
    "condition_report = df['Asset condition'].value_counts().reset_index()\n",
    "condition_report.columns = ['Condition', 'Count']\n",
    "\n",
    "print(\"Asset Condition Report:\")\n",
    "print(condition_report)\n",
    "\n",
    "# Optional - Filter for poor condition only\n",
    "poor_assets = df[df['Asset condition'].str.lower() == 'poor']\n",
    "\n",
    "print(\"\\nAssets in Poor Condition:\")\n",
    "print(poor_assets[['Asset Description', 'Current Location', 'Responsible officer']])\n",
    "\n",
    "plt.figure(figsize=(8, 5))\n",
    "sns.barplot(x='Condition', y='Count', data=condition_report)\n",
    "plt.title('Asset Condition Overview')\n",
    "plt.show()\n"
   ]
  },
  {
   "cell_type": "markdown",
   "id": "c7781650-0df9-4639-b382-ccfa33c0d26d",
   "metadata": {},
   "source": [
    "# Financing Insights\n",
    "Which assets were financed by which source?\n",
    "\n",
    "Columns Needed\n",
    "- Financed by/ source of funds\n",
    "- Asset Description\n",
    "\n",
    "What You Want to Know\n",
    "- Total value of assets from each financing source.\n",
    "- Total number of assets per financing source.\n"
   ]
  },
  {
   "cell_type": "code",
   "execution_count": 10,
   "id": "10570e74-e37c-42f4-811a-ff6566cce927",
   "metadata": {},
   "outputs": [
    {
     "name": "stdout",
     "output_type": "stream",
     "text": [
      "  Financing Source  Number of Assets\n",
      "0              GOK               352\n"
     ]
    }
   ],
   "source": [
    "# list all assets under each source\n",
    "financing_summary = df.groupby('Financed by/ source of funds')['Asset Description'].count().reset_index()\n",
    "\n",
    "# Rename column for clarity\n",
    "financing_summary.columns = ['Financing Source', 'Number of Assets']\n",
    "\n",
    "print(financing_summary)\n"
   ]
  },
  {
   "cell_type": "markdown",
   "id": "5cae5120-4d13-45a4-8340-d6ff71044b77",
   "metadata": {},
   "source": [
    "It is notable that that our assets are financed by the Government of kenya."
   ]
  },
  {
   "cell_type": "code",
   "execution_count": 11,
   "id": "4e0bf205-bf27-4213-81b4-8d56b412a217",
   "metadata": {},
   "outputs": [
    {
     "data": {
      "text/html": [
       "<div>\n",
       "<style scoped>\n",
       "    .dataframe tbody tr th:only-of-type {\n",
       "        vertical-align: middle;\n",
       "    }\n",
       "\n",
       "    .dataframe tbody tr th {\n",
       "        vertical-align: top;\n",
       "    }\n",
       "\n",
       "    .dataframe thead th {\n",
       "        text-align: right;\n",
       "    }\n",
       "</style>\n",
       "<table border=\"1\" class=\"dataframe\">\n",
       "  <thead>\n",
       "    <tr style=\"text-align: right;\">\n",
       "      <th></th>\n",
       "      <th>Financed by/ source of funds</th>\n",
       "      <th>Asset Description</th>\n",
       "    </tr>\n",
       "  </thead>\n",
       "  <tbody>\n",
       "    <tr>\n",
       "      <th>0</th>\n",
       "      <td>GOK</td>\n",
       "      <td>[keyboard, keyboard, keyboard, keyboard, keybo...</td>\n",
       "    </tr>\n",
       "  </tbody>\n",
       "</table>\n",
       "</div>"
      ],
      "text/plain": [
       "  Financed by/ source of funds  \\\n",
       "0                          GOK   \n",
       "\n",
       "                                   Asset Description  \n",
       "0  [keyboard, keyboard, keyboard, keyboard, keybo...  "
      ]
     },
     "execution_count": 11,
     "metadata": {},
     "output_type": "execute_result"
    }
   ],
   "source": [
    "financing_assets = df.groupby('Financed by/ source of funds')['Asset Description'].apply(list).reset_index()\n",
    "\n",
    "financing_assets\n"
   ]
  },
  {
   "cell_type": "code",
   "execution_count": 12,
   "id": "0accd203-f7fc-4fd5-858b-6f2fcb45aa61",
   "metadata": {},
   "outputs": [
    {
     "data": {
      "image/png": "[encoded data removed]",
      "text/plain": [
       "<Figure size 1000x600 with 1 Axes>"
      ]
     },
     "metadata": {},
     "output_type": "display_data"
    }
   ],
   "source": [
    "import matplotlib.pyplot as plt\n",
    "import seaborn as sns\n",
    "\n",
    "plt.figure(figsize=(10, 6))\n",
    "sns.barplot(x='Number of Assets', y='Financing Source', data=financing_summary)\n",
    "plt.title('Number of Assets by Financing Source')\n",
    "plt.show()\n"
   ]
  },
  {
   "cell_type": "markdown",
   "id": "ee375b60-a208-465d-bce0-8589fbb008ff",
   "metadata": {},
   "source": [
    "# Reporting"
   ]
  },
  {
   "cell_type": "markdown",
   "id": "d8715aa8-dce1-4aa3-ba3d-1a862d2433de",
   "metadata": {},
   "source": [
    "**Summary Report**\n",
    "\n",
    "We generate a simple summary that shows:\n",
    "\n",
    "- Total Assets\t\n",
    "- Assets in Poor Condition\t\n",
    "- Assets by Financing Source\t\n",
    "- Assets by Location\t\n"
   ]
  },
  {
   "cell_type": "code",
   "execution_count": 13,
   "id": "ea51491c-ba04-44d1-8a22-383e3e6707a8",
   "metadata": {},
   "outputs": [
    {
     "name": "stdout",
     "output_type": "stream",
     "text": [
      "Asset Management Summary Report\n",
      "Total Assets: 352\n",
      "Assets in Poor Condition: 0\n",
      "\n",
      "Assets by Financing Source:\n",
      "Financed by/ source of funds\n",
      "GOK    352\n",
      "Name: count, dtype: int64\n",
      "\n",
      "Assets by Location:\n",
      "Current Location\n",
      "RD                        15\n",
      "ps                        12\n",
      "legal                     11\n",
      "Research & Partnership    10\n",
      "Telephone Exchange        10\n",
      "                          ..\n",
      "PFO                        1\n",
      "Internal Audit             1\n",
      "SPFO                       1\n",
      "Research                   1\n",
      "R&P                        1\n",
      "Name: count, Length: 138, dtype: int64\n"
     ]
    }
   ],
   "source": [
    "print(\"Asset Management Summary Report\")\n",
    "print(f\"Total Assets: {df.shape[0]}\")\n",
    "print(f\"Assets in Poor Condition: {df[df['Asset condition'] == 'POOR'].shape[0]}\")\n",
    "\n",
    "print(\"\\nAssets by Financing Source:\")\n",
    "print(df['Financed by/ source of funds'].value_counts())\n",
    "\n",
    "print(\"\\nAssets by Location:\")\n",
    "print(df['Current Location'].value_counts())\n"
   ]
  },
  {
   "cell_type": "markdown",
   "id": "b2b55ee5-19a6-4639-99e4-763a3e07d36b",
   "metadata": {},
   "source": [
    "**Visualization Dashboard**\n",
    "\n",
    "We now build a simple dashboard with matplotlib, seaborn, or even Streamlit ."
   ]
  },
  {
   "cell_type": "code",
   "execution_count": 14,
   "id": "696fd9bb-3648-40c0-9849-cb2e3af52144",
   "metadata": {},
   "outputs": [
    {
     "data": {
      "image/png": "[encoded data removed]",
      "text/plain": [
       "<Figure size 1200x600 with 2 Axes>"
      ]
     },
     "metadata": {},
     "output_type": "display_data"
    }
   ],
   "source": [
    "plt.figure(figsize=(12, 6))\n",
    "\n",
    "# Financing Source Plot\n",
    "plt.subplot(1, 2, 1)\n",
    "sns.countplot(y='Financed by/ source of funds', data=df, order=df['Financed by/ source of funds'].value_counts().index)\n",
    "plt.title('Assets by Financing Source')\n",
    "\n",
    "# Condition Plot\n",
    "plt.subplot(1, 2, 2)\n",
    "sns.countplot(x='Asset condition', data=df)\n",
    "plt.title('Asset Condition')\n",
    "\n",
    "plt.tight_layout()\n",
    "plt.show()\n"
   ]
  },
  {
   "cell_type": "markdown",
   "id": "e4e40f15-68a9-4b70-94f3-b8afdf5b5b18",
   "metadata": {},
   "source": [
    "**Exporting the Cleaned Data**\n",
    "\n",
    "You might want to save your cleaned data for future analysis or sharing with others"
   ]
  },
  {
   "cell_type": "code",
   "execution_count": 15,
   "id": "880266c3-6881-42e7-b322-3a634cb3c27f",
   "metadata": {},
   "outputs": [],
   "source": [
    "df.to_excel('Cleaned_Asset_Register.xlsx', index=False)\n"
   ]
  },
  {
   "cell_type": "code",
   "execution_count": 16,
   "id": "892cae80-5604-4b99-93be-568c6cf15d3b",
   "metadata": {
    "jupyter": {
     "source_hidden": true
    }
   },
   "outputs": [
    {
     "name": "stdout",
     "output_type": "stream",
     "text": [
      "✅ employees.xlsx created successfully in the current directory!\n"
     ]
    }
   ],
   "source": [
    "# Define columns and initial empty DataFrame\n",
    "columns = ['Employee ID', 'Name', 'Department', 'Phone', 'Email', 'Assigned Assets']\n",
    "employees = pd.DataFrame(columns=columns)\n",
    "\n",
    "# Optional: Add sample data\n",
    "sample_data = [\n",
    "    ['EMP001', 'John Doe', 'IT', '0712345678', 'john@example.com', 'Laptop, Printer'],\n",
    "    \n",
    "]\n",
    "\n",
    "# Create DataFrame with sample data\n",
    "#employees = pd.DataFrame(sample_data, columns=columns)\n",
    "\n",
    "# Save DataFrame to Excel file in your current directory\n",
    "employees.to_excel('employees.xlsx', index=False)\n",
    "\n",
    "print(\"✅ employees.xlsx created successfully in the current directory!\")\n"
   ]
  },
  {
   "cell_type": "code",
   "execution_count": null,
   "id": "9a4867ad-ad74-4a17-8e43-3bb6a73ea547",
   "metadata": {},
   "outputs": [],
   "source": []
  }
 ],
 "metadata": {
  "kernelspec": {
   "display_name": "Python (venv)",
   "language": "python",
   "name": "venv"
  },
  "language_info": {
   "codemirror_mode": {
    "name": "ipython",
    "version": 3
   },
   "file_extension": ".py",
   "mimetype": "text/x-python",
   "name": "python",
   "nbconvert_exporter": "python",
   "pygments_lexer": "ipython3",
   "version": "3.13.2"
  }
 },
 "nbformat": 4,
 "nbformat_minor": 5
}
